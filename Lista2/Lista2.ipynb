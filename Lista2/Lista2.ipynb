{
 "cells": [
  {
   "cell_type": "markdown",
   "metadata": {},
   "source": [
    "# Lista 2 (7 pkt.)"
   ]
  },
  {
   "cell_type": "markdown",
   "metadata": {},
   "source": [
    "## Zadanie 1. (1 pkt)"
   ]
  },
  {
   "cell_type": "markdown",
   "metadata": {},
   "source": [
    "To zadanie należy wykonać ręcznie, bez używania komputera, korzystając z instrukcji z **one_time_pad.pdf**. Zaszyfruj wiadomość o treści: \"NEW 15 HELICOPTERS\", za pomocą klucza: 68496 47757 10126 36660 25066. Do słów, które są w tabeli poniżej użyj odpowiednio ich kodów. Uwaga: w wiadomości jest liczba mnoga \"helicopterS\"."
   ]
  },
  {
   "cell_type": "markdown",
   "metadata": {},
   "source": [
    "\n",
    "$\\begin{array}{|c|c|c|c|c|c|c|c|c|c|}\n",
    "\\hline\n",
    "CODE&A&E&I&N&O&T&&\\\\\n",
    "0&1&2&3&4&5&6&&&\\\\\n",
    "\\hline\n",
    "B&C&D&F&G&H&J&K&L&M\\\\\n",
    "70&71&72&73&74&75&76&77&78&79\\\\\n",
    "\\hline\n",
    "P&Q&R&S&U&V&W&X&Y&Z\\\\\n",
    "80&81&82&83&84&85&86&87&88&89\\\\\n",
    "\\hline\n",
    "FIG&.&:&,/'&(/)&+&-&=&REG/?&SPC\\\\\n",
    "90&91&92&93&94&95&96&97&98&99\\\\\n",
    "\\hline\n",
    "\\end{array}$"
   ]
  },
  {
   "cell_type": "markdown",
   "metadata": {},
   "source": [
    "$\\begin{array}{|cc|cc|cc|cc|}\n",
    "\\hline\n",
    "000&ABORT&253&DECODE&505&MILITARY&758&STREET\\\\\n",
    "\\hline\n",
    "019&ACCEPT&262&DELAY&514&MONEY&767&SUBWAY\\\\\n",
    "\\hline\n",
    "028&ACCESS&271&DIFFICULT&523&MONTH&776&SUCCESS\\\\\n",
    "\\hline\n",
    "037&ADDRESS&280&DOCUMENT&532&MORNING&785&SUPPLY\\\\\n",
    "\\hline\n",
    "046&AFFIRMATIVE&299&ENCODE&541&MORSE&794&SUPPORT\\\\\n",
    "\\hline\n",
    "055&AGENT&307&EVENING&550&NEGATIVE&802&TELEPHONE\\\\\n",
    "\\hline\n",
    "064&AIRPLANE&316&EXECUTE&569&NIGHT&811&TODAY\\\\\n",
    "\\hline\n",
    "073&AIRPORT&325&FACTORY&578&OBSERVATION&820&TOMORROW\\\\\n",
    "\\hline\n",
    "082&ANSWER&334&FAILED&587&PASSPORT&839&TRAIN\\\\\n",
    "\\hline\n",
    "091&AUTHORITY&343&FERRY&596&PERSON&848&TRANSFER\\\\\n",
    "\\hline\n",
    "109&BETWEEN&352&FLIGHT&604&PHOTOGRAPH&857&TRANSMIT\\\\\n",
    "\\hline\n",
    "118&BORDER&361&FREQUENCY&613&POSITIVE&866&TRAVEL\\\\\n",
    "\\hline\n",
    "127&BUILDING&370&HARBOUR&622&POSSIBLE&875&TRUCK\\\\\n",
    "\\hline\n",
    "136&CANCEL&389&HELICOPTER&631&POWER&884&UNABLE TO\\\\\n",
    "\\hline\n",
    "145&CHANGE&398&HIGHWAY&640&PRIORITY&893&URGENT\\\\\n",
    "\\hline\n",
    "154&CIVILIAN&406&IDENTITY&659&PROBLEM&901&VERIFY\\\\\n",
    "\\hline\n",
    "163&COMPROMISE&415&IMMEDIATE&668&QUESTION&910&WEEK\\\\\n",
    "\\hline\n",
    "172&COMPUTER&424&IMPOSSIBLE&677&RADIO&929&WITHIN\\\\\n",
    "\\hline\n",
    "181&CONFIRM&433&INFORMATION&686&RECEIVE&938&YESTERDAY\\\\\n",
    "\\hline\n",
    "190&CONTACT&442&INSTRUCTIONS&695&RENDEZVOUS&&\\\\\n",
    "\\hline\n",
    "208&COORDINATE&451&LOCATE&703&REPEAT&&\\\\\n",
    "\\hline\n",
    "217&COUNTRY&460&LOCATION&712&RESERVATION&&\\\\\n",
    "\\hline\n",
    "226&COVERT&479&MAIL&721&ROUTINE&\\\\\n",
    "\\hline\n",
    "235&CURRENT&488&MEETING&730&SATELLITE&\\\\\n",
    "\\hline\n",
    "244&DANGER&497&MESSAGE&749&SHIP&\\\\\n",
    "\\hline\n",
    "\\end{array}$"
   ]
  },
  {
   "cell_type": "code",
   "execution_count": null,
   "metadata": {},
   "outputs": [],
   "source": [
    "'''\n",
    "klucz: 68496 47757 10126 36660 25066\n",
    "\n",
    "NEW 15 HELICOPTERS → 4 2 86 90 1 1 1 5 5 5 90 0 389 83\n",
    "\n",
    "42869 01115 55900 38983\n",
    "\n",
    "KEYID 42869 01115 55900 38983\n",
    "68496 47757 10126 36660 25066\n",
    "\n",
    "4 - 4 = 0\n",
    "2 - 7 = -5 (+10 = 5)\n",
    "8 - 7 = 1\n",
    "6 - 5 = 1\n",
    "9 - 7 = 2\n",
    "\n",
    "0 - 1 = -1 (+10 = 9)\n",
    "1 - 0 = 1\n",
    "1 - 1 = 0\n",
    "1 - 2 = -1 (+10 = 9)\n",
    "5 - 6 = -1 (+10 = 9)\n",
    "\n",
    "5 - 3 = 2\n",
    "5 - 6 = -1 (+10 = 9)\n",
    "9 - 6 = 3\n",
    "0 - 6 = -6 (+10 = 4)\n",
    "0 - 0 = 0\n",
    "\n",
    "3 - 2 = 1\n",
    "8 - 5 = 3\n",
    "9 - 0 = 9\n",
    "8 - 6 = 2\n",
    "3 - 6 = -3 (+10 = 7)\n",
    "\n",
    "68496 05112 91099 29340 13927 - zaszyfrowana\n",
    "'''"
   ]
  },
  {
   "cell_type": "markdown",
   "metadata": {},
   "source": [
    "## Zadanie 2 (1 pkt)"
   ]
  },
  {
   "cell_type": "markdown",
   "metadata": {},
   "source": [
    "To zadanie również jest do zrobienia ręcznie. Używając klucza 11454 03055 15565 17466 26950 54906 odkoduj wiadomość 11454 00572 94578 25863 84286 24376. Wykorzystaj instrukcje z **one_time_pad.pdf** oraz tablicę kodów z Zadania 1. \n"
   ]
  },
  {
   "cell_type": "code",
   "execution_count": null,
   "metadata": {},
   "outputs": [],
   "source": [
    "'''\n",
    "klucz 11454 03055 15565 17466 26950 54906\n",
    "messs 11454 00572 94578 25863 84286 24376\n",
    "\n",
    "03055 + 00572\n",
    "0 + 0 = 0 → 0 % 10 = 0\n",
    "3 + 0 = 3 → 3 % 10 = 3\n",
    "0 + 5 = 5 → 5 % 10 = 5\n",
    "5 + 7 = 12 → 12 % 10 = 2\n",
    "5 + 2 = 7 → 7 % 10 = 7\n",
    "Wynik: 03527\n",
    "\n",
    "15565 + 94578\n",
    "1 + 9 = 10 → 10 % 10 = 0\n",
    "5 + 4 = 9 → 9 % 10 = 9\n",
    "5 + 5 = 10 → 10 % 10 = 0\n",
    "6 + 7 = 13 → 13 % 10 = 3\n",
    "5 + 8 = 13 → 13 % 10 = 3\n",
    "Wynik: 09033\n",
    "\n",
    "17466 + 25863\n",
    "1 + 2 = 3 → 3 % 10 = 3\n",
    "7 + 5 = 12 → 12 % 10 = 2\n",
    "4 + 8 = 12 → 12 % 10 = 2\n",
    "6 + 6 = 12 → 12 % 10 = 2\n",
    "6 + 3 = 9 → 9 % 10 = 9\n",
    "Wynik: 32229\n",
    "\n",
    "26950 + 84286\n",
    "2 + 8 = 10 → 10 % 10 = 0\n",
    "6 + 4 = 10 → 10 % 10 = 0\n",
    "9 + 2 = 11 → 11 % 10 = 1\n",
    "5 + 8 = 13 → 13 % 10 = 3\n",
    "0 + 6 = 6 → 6 % 10 = 6\n",
    "Wynik: 00136\n",
    "\n",
    "54906 + 24376\n",
    "5 + 2 = 7 → 7 % 10 = 7\n",
    "4 + 4 = 8 → 8 % 10 = 8\n",
    "9 + 3 = 12 → 12 % 10 = 2\n",
    "0 + 7 = 7 → 7 % 10 = 7\n",
    "6 + 6 = 12 → 12 % 10 = 2\n",
    "Wynik: 78272\n",
    "\n",
    "03527 09033 32229 00136 78272\n",
    "\n",
    "0 352 70 90 333 222 90 0 136 78 272\n",
    "FLIGHT B 32 CANCELLED\n",
    "'''"
   ]
  },
  {
   "cell_type": "code",
   "execution_count": 9,
   "metadata": {},
   "outputs": [],
   "source": [
    "import string\n",
    "from PIL import Image\n",
    "import numpy as np\n",
    "import matplotlib.pyplot as plt\n",
    "from matplotlib.colors import LogNorm"
   ]
  },
  {
   "cell_type": "markdown",
   "metadata": {},
   "source": [
    "## Zadanie 3. (1 pkt)\n",
    "Wczytaj obrazki 'miki.png' oraz 'quest.png'."
   ]
  },
  {
   "cell_type": "code",
   "execution_count": 10,
   "metadata": {},
   "outputs": [
    {
     "data": {
      "image/jpeg": "[encoded data removed]",
      "image/png": "[encoded data removed]",
      "text/plain": [
       "<PIL.Image.Image image mode=L size=200x207>"
      ]
     },
     "execution_count": 10,
     "metadata": {},
     "output_type": "execute_result"
    }
   ],
   "source": [
    "img1 = Image.open('miki.png').convert('L')\n",
    "img1"
   ]
  },
  {
   "cell_type": "code",
   "execution_count": 11,
   "metadata": {},
   "outputs": [
    {
     "data": {
      "image/jpeg": "[encoded data removed]",
      "image/png": "[encoded data removed]",
      "text/plain": [
       "<PIL.Image.Image image mode=L size=200x207>"
      ]
     },
     "execution_count": 11,
     "metadata": {},
     "output_type": "execute_result"
    }
   ],
   "source": [
    "img2 = Image.open('quest.png').convert('L')\n",
    "img2"
   ]
  },
  {
   "cell_type": "markdown",
   "metadata": {},
   "source": [
    "Napisz funkcję **add_pic(img1, img2)**, która przyjmuje dwa obrazki i je dodaje piksel po pikselu za pomocą XOR, czyli **biały+biały=czarny, biały+czarny=biały, czarny+czarny=czarny**. Warto wykorzystać to, że **np.array(img)** zwraca tablicę, z wartościami 255 dla białych pikseli i 0 dla czarnych, aby zamienić tablicę z powrotem na obraz należy użyc **Image.fromarray()** przy czym tablica musi być typu **np.uint8** czyli tworząc tablicę podajemy typ: **np.array([1,2,3,4], dtype=np.uint8)**. Funkcja ma zwracać obrazek."
   ]
  },
  {
   "cell_type": "code",
   "execution_count": 29,
   "metadata": {},
   "outputs": [
    {
     "data": {
      "text/plain": [
       "array([[255, 255, 255, ..., 255, 255, 255],\n",
       "       [255, 255, 255, ..., 255, 255, 255],\n",
       "       [255, 255, 255, ..., 255, 255, 255],\n",
       "       ...,\n",
       "       [255, 255, 255, ..., 255, 255, 255],\n",
       "       [255, 255, 255, ..., 255, 255, 255],\n",
       "       [255, 255, 255, ..., 255, 255, 255]], dtype=uint8)"
      ]
     },
     "execution_count": 29,
     "metadata": {},
     "output_type": "execute_result"
    }
   ],
   "source": [
    "np.array(img1)"
   ]
  },
  {
   "cell_type": "code",
   "execution_count": 13,
   "metadata": {},
   "outputs": [
    {
     "data": {
      "text/plain": [
       "(207, 200)"
      ]
     },
     "execution_count": 13,
     "metadata": {},
     "output_type": "execute_result"
    }
   ],
   "source": [
    "np.array(img2).shape"
   ]
  },
  {
   "cell_type": "code",
   "execution_count": 23,
   "metadata": {},
   "outputs": [],
   "source": [
    "def add_pic(img1, img2):\n",
    "    arr1 = np.array(img1, dtype=np.uint8)\n",
    "    arr2 = np.array(img2, dtype=np.uint8)\n",
    "    result = np.bitwise_xor(arr1, arr2)\n",
    "    img = Image.fromarray(result)\n",
    "    return img"
   ]
  },
  {
   "cell_type": "code",
   "execution_count": 35,
   "metadata": {},
   "outputs": [
    {
     "data": {
      "image/jpeg": "[encoded data removed]",
      "image/png": "[encoded data removed]",
      "text/plain": [
       "<PIL.Image.Image image mode=L size=200x207>"
      ]
     },
     "execution_count": 35,
     "metadata": {},
     "output_type": "execute_result"
    }
   ],
   "source": [
    "add_pic(img1, img2)"
   ]
  },
  {
   "cell_type": "markdown",
   "metadata": {},
   "source": [
    "Wygeneruj (pseudo)losowy klucz, czyli obrazek z losowymi białymi i czarnymi pikselami, użyj **np.random**. Następnie zaszyfruj tym kluczem, za pomocą **add_pic**, oba obrazki **img1** i **img2**. Zauważ, że oba obrazki wyglądają na dobrze zaszyfrowane, zobacz jednak co się wydarzy kiedy dodasz do siebie te zaszyfrowane obrazki."
   ]
  },
  {
   "cell_type": "code",
   "execution_count": 31,
   "metadata": {},
   "outputs": [
    {
     "data": {
      "image/jpeg": "[encoded data removed]",
      "image/png": "[encoded data removed]",
      "text/plain": [
       "<PIL.Image.Image image mode=L size=200x207>"
      ]
     },
     "execution_count": 31,
     "metadata": {},
     "output_type": "execute_result"
    }
   ],
   "source": [
    "random_array = np.random.randint(0, 2, size=(207, 200), dtype=np.uint8) * 255\n",
    "Image.fromarray(random_array)"
   ]
  },
  {
   "cell_type": "code",
   "execution_count": 32,
   "metadata": {},
   "outputs": [
    {
     "data": {
      "image/jpeg": "[encoded data removed]",
      "image/png": "[encoded data removed]",
      "text/plain": [
       "<PIL.Image.Image image mode=L size=200x207>"
      ]
     },
     "execution_count": 32,
     "metadata": {},
     "output_type": "execute_result"
    }
   ],
   "source": [
    "img1_enc = add_pic(img1, Image.fromarray(random_array))\n",
    "img1_enc"
   ]
  },
  {
   "cell_type": "code",
   "execution_count": 33,
   "metadata": {},
   "outputs": [
    {
     "data": {
      "image/jpeg": "[encoded data removed]",
      "image/png": "[encoded data removed]",
      "text/plain": [
       "<PIL.Image.Image image mode=L size=200x207>"
      ]
     },
     "execution_count": 33,
     "metadata": {},
     "output_type": "execute_result"
    }
   ],
   "source": [
    "img2_enc = add_pic(img2, Image.fromarray(random_array))\n",
    "img2_enc"
   ]
  },
  {
   "cell_type": "code",
   "execution_count": 34,
   "metadata": {},
   "outputs": [
    {
     "data": {
      "image/jpeg": "[encoded data removed]",
      "image/png": "[encoded data removed]",
      "text/plain": [
       "<PIL.Image.Image image mode=L size=200x207>"
      ]
     },
     "execution_count": 34,
     "metadata": {},
     "output_type": "execute_result"
    }
   ],
   "source": [
    "add_pic(img1_enc, img2_enc)"
   ]
  },
  {
   "cell_type": "markdown",
   "metadata": {},
   "source": [
    "## Zadanie 4 (2 pkt.)"
   ]
  },
  {
   "cell_type": "markdown",
   "metadata": {},
   "source": [
    "Zmienne ***msg1_enc*** oraz ***msg2_enc*** zawierają dwie zaszyfrowane wiadomości, w języku angielskim."
   ]
  },
  {
   "cell_type": "code",
   "execution_count": 1,
   "metadata": {},
   "outputs": [],
   "source": [
    "msg1_enc = '\\x1e\\x17\\x0c\\x12\\x1b\\x08\\x0cf\\x0e\\x11x\\x1a\\x1c\\x12o\\x06\\x18\\x1f\\x17\\x03\\x10\\x01fkh\\x1f\\x08'\n",
    "msg2_enc = '\\x0b\\ni\\x07\\x1c\\x02k\\x1f\\x16e\\x01\\x0b\\x07\\x03\\n\\x15\\x15\\x0c\\x1el\\x07\\x03\\x03\\x16\\x01\\x01\\x02'"
   ]
  },
  {
   "cell_type": "markdown",
   "metadata": {},
   "source": [
    "Wiadomo, że zostały zaszyfrowane tym samym kluczem, możemy to wykorzystać do odszyfrowania ich. W tym zadaniu konwencja zamiany liter na liczby i ich dodawania jest inna, niż w poprzednich. Znaki zamieniamy na liczby kodujące te znaki w **Unicode**, czyli za pomocą **ord()**, następnie dodajemy je do siebie za pomocą XOR na poziomie bitów, czyli za pomocą **^**. Napisz funkcję **add_str(msg1, msg2)**, które przyjmuje dwa teksty i zwraca tekst będący sumą tych tekstów zgodnie z powyższą konwencją."
   ]
  },
  {
   "cell_type": "code",
   "execution_count": 50,
   "metadata": {},
   "outputs": [
    {
     "data": {
      "text/plain": [
       "1"
      ]
     },
     "execution_count": 50,
     "metadata": {},
     "output_type": "execute_result"
    }
   ],
   "source": [
    "ord('\\x01')"
   ]
  },
  {
   "cell_type": "code",
   "execution_count": 54,
   "metadata": {},
   "outputs": [
    {
     "data": {
      "text/plain": [
       "[('\\x1e', 30),\n",
       " ('\\x17', 23),\n",
       " ('\\x0c', 12),\n",
       " ('\\x12', 18),\n",
       " ('\\x1b', 27),\n",
       " ('\\x08', 8),\n",
       " ('\\x0c', 12),\n",
       " ('f', 102),\n",
       " ('\\x0e', 14),\n",
       " ('\\x11', 17),\n",
       " ('x', 120),\n",
       " ('\\x1a', 26),\n",
       " ('\\x1c', 28),\n",
       " ('\\x12', 18),\n",
       " ('o', 111),\n",
       " ('\\x06', 6),\n",
       " ('\\x18', 24),\n",
       " ('\\x1f', 31),\n",
       " ('\\x17', 23),\n",
       " ('\\x03', 3),\n",
       " ('\\x10', 16),\n",
       " ('\\x01', 1),\n",
       " ('f', 102),\n",
       " ('k', 107),\n",
       " ('h', 104),\n",
       " ('\\x1f', 31),\n",
       " ('\\x08', 8)]"
      ]
     },
     "execution_count": 54,
     "metadata": {},
     "output_type": "execute_result"
    }
   ],
   "source": [
    "[(c, ord(c)) for c in msg1_enc]"
   ]
  },
  {
   "cell_type": "code",
   "execution_count": 58,
   "metadata": {},
   "outputs": [
    {
     "data": {
      "text/plain": [
       "[('\\x0b', 11),\n",
       " ('\\n', 10),\n",
       " ('i', 105),\n",
       " ('\\x07', 7),\n",
       " ('\\x1c', 28),\n",
       " ('\\x02', 2),\n",
       " ('k', 107),\n",
       " ('\\x1f', 31),\n",
       " ('\\x16', 22),\n",
       " ('e', 101),\n",
       " ('\\x01', 1),\n",
       " ('\\x0b', 11),\n",
       " ('\\x07', 7),\n",
       " ('\\x03', 3),\n",
       " ('\\n', 10),\n",
       " ('\\x15', 21),\n",
       " ('\\x15', 21),\n",
       " ('\\x0c', 12),\n",
       " ('\\x1e', 30),\n",
       " ('l', 108),\n",
       " ('\\x07', 7),\n",
       " ('\\x03', 3),\n",
       " ('\\x03', 3),\n",
       " ('\\x16', 22),\n",
       " ('\\x01', 1),\n",
       " ('\\x01', 1),\n",
       " ('\\x02', 2)]"
      ]
     },
     "execution_count": 58,
     "metadata": {},
     "output_type": "execute_result"
    }
   ],
   "source": [
    "[(c, ord(c)) for c in msg2_enc]"
   ]
  },
  {
   "cell_type": "code",
   "execution_count": 62,
   "metadata": {},
   "outputs": [
    {
     "data": {
      "text/plain": [
       "'\\x15'"
      ]
     },
     "execution_count": 62,
     "metadata": {},
     "output_type": "execute_result"
    }
   ],
   "source": [
    "chr(11 ^ 30)"
   ]
  },
  {
   "cell_type": "code",
   "execution_count": 2,
   "metadata": {},
   "outputs": [],
   "source": [
    "def add_str(msg1, msg2):\n",
    "    result = ''\n",
    "    ords1 = [ord(c) for c in msg1]\n",
    "    ords2 = [ord(c) for c in msg2]\n",
    "    length = min(len(ords1), len(ords2))\n",
    "    for i in range(length):\n",
    "        result += chr(ords1[i] ^ ords2[i])\n",
    "    return result"
   ]
  },
  {
   "cell_type": "code",
   "execution_count": 27,
   "metadata": {},
   "outputs": [],
   "source": [
    "mess = add_str(msg1_enc, msg2_enc)"
   ]
  },
  {
   "cell_type": "code",
   "execution_count": 60,
   "metadata": {},
   "outputs": [
    {
     "data": {
      "text/plain": [
       "[('\\x15', 21),\n",
       " ('\\x1d', 29),\n",
       " ('e', 101),\n",
       " ('\\x15', 21),\n",
       " ('\\x07', 7),\n",
       " ('\\n', 10),\n",
       " ('g', 103),\n",
       " ('y', 121),\n",
       " ('\\x18', 24),\n",
       " ('t', 116),\n",
       " ('y', 121),\n",
       " ('\\x11', 17),\n",
       " ('\\x1b', 27),\n",
       " ('\\x11', 17),\n",
       " ('e', 101),\n",
       " ('\\x13', 19),\n",
       " ('\\r', 13),\n",
       " ('\\x13', 19),\n",
       " ('\\t', 9),\n",
       " ('o', 111),\n",
       " ('\\x17', 23),\n",
       " ('\\x02', 2),\n",
       " ('e', 101),\n",
       " ('}', 125),\n",
       " ('i', 105),\n",
       " ('\\x1e', 30),\n",
       " ('\\n', 10)]"
      ]
     },
     "execution_count": 60,
     "metadata": {},
     "output_type": "execute_result"
    }
   ],
   "source": [
    "[(c, ord(c)) for c in mess]"
   ]
  },
  {
   "cell_type": "markdown",
   "metadata": {},
   "source": [
    "Zauważmy, że jeżeli dwie wiadomości są zaszyfrowane tym samym kluczem to dodanie ich do siebie sprawia, że dostaniemy sumę wiadomości bez klucza. Poza tym zauważmy, że jeżeli znamy jakieś słowo występujące w którejś z wiadomości i je dodamy do sumy tych wiadomości w odpowiednim miejscu to w wyniku dostaniemy poprawne słowo z drugiej wiadomości. Zatem metoda łamania tych wiadomości jest następująca, zgadujemy jakie słowo może być w którejś z wiadomości, dodajemy je w różnych miejscach sumy wiadomości i patrzymy czy powstaje coś co może być fragmentem poprawnego tekstu, następnie na podstawie tego fragmentu zgadujemy większą pozostałą część słowa i teraz to słowo używamy do odczytania kolejnego fragmentu z pierwszej wiadomości.\n",
    "\n",
    "Pierwsze słowo wybieramy z pośród najpopularniejszych słów w danym języku.\n",
    "\n",
    "Najpopularniejsze angielskie słowa:\n",
    "1. THE\n",
    "2. BE\n",
    "3. TO\n",
    "4. OF\n",
    "5. AND\n",
    "\n",
    "Uwaga 1: Słowa zapisane są drukowanymi literami.\n",
    "\n",
    "Uwaga 2: Słowa oddzialane są spacjami, zatem biorąc np. słowo THE należy sprawdzać ciąg znaków \"&nbsp; THE &nbsp;\", ze spacjami na początku i końcu, dzięki temu odszyfrujemy więcej znaków."
   ]
  },
  {
   "cell_type": "code",
   "execution_count": 83,
   "metadata": {},
   "outputs": [
    {
     "name": "stdout",
     "output_type": "stream",
     "text": [
      " AND  ========\n",
      "0 <=> 5\n",
      "5\\+Q'\n",
      "1 <=> 6\n",
      "=$[C*\n",
      "2 <=> 7\n",
      "ETING\n",
      "3 <=> 8\n",
      "5FD#Y\n",
      "4 <=> 9\n",
      "'K)=8\n",
      "5 <=> 10\n",
      "*&7\\T\n",
      "6 <=> 11\n",
      "G8V0Y\n",
      "7 <=> 12\n",
      "YY:=1\n",
      "8 <=> 13\n",
      "857U;\n",
      "9 <=> 14\n",
      "T8__1\n",
      "10 <=> 15\n",
      "YPUUE\n",
      "11 <=> 16\n",
      "1Z_!3\n",
      "12 <=> 17\n",
      ";P+W-\n",
      "13 <=> 18\n",
      "1$]I3\n",
      "14 <=> 19\n",
      "ERCW)\n",
      "15 <=> 20\n",
      "3L]MO\n",
      "16 <=> 21\n",
      "-RG+7\n",
      "17 <=> 22\n",
      "3H!S\"\n",
      "18 <=> 23\n",
      ").YFE\n",
      "19 <=> 24\n",
      "OVL!]\n",
      "20 <=> 25\n",
      "7C+9I\n",
      "21 <=> 26\n",
      "\"$3->\n",
      "22 <=> 27\n",
      "E<'Z*\n",
      "23 <=> 28\n",
      "](PN\n",
      "24 <=> 29\n",
      "I_D\n",
      "25 <=> 30\n",
      ">K\n",
      " BE  ========\n",
      "0 <=> 4\n",
      "5_ 5\n",
      "1 <=> 5\n",
      "='P'\n",
      "2 <=> 6\n",
      "EWB*\n",
      "3 <=> 7\n",
      "5EOG\n",
      "4 <=> 8\n",
      "'H\"Y\n",
      "5 <=> 9\n",
      "*%<8\n",
      "6 <=> 10\n",
      "G;]T\n",
      "7 <=> 11\n",
      "YZ1Y\n",
      "8 <=> 12\n",
      "86<1\n",
      "9 <=> 13\n",
      "T;T;\n",
      "10 <=> 14\n",
      "YS^1\n",
      "11 <=> 15\n",
      "1YTE\n",
      "12 <=> 16\n",
      ";S 3\n",
      "13 <=> 17\n",
      "1'V-\n",
      "14 <=> 18\n",
      "EQH3\n",
      "15 <=> 19\n",
      "3OV)\n",
      "16 <=> 20\n",
      "-QLO\n",
      "17 <=> 21\n",
      "3K*7\n",
      "18 <=> 22\n",
      ")-R\"\n",
      "19 <=> 23\n",
      "OUGE\n",
      "20 <=> 24\n",
      "7@ ]\n",
      "21 <=> 25\n",
      "\"'8I\n",
      "22 <=> 26\n",
      "E?,>\n",
      "23 <=> 27\n",
      "]+[*\n",
      "24 <=> 28\n",
      "I\\O\n",
      "25 <=> 29\n",
      ">H\n",
      " TO  ========\n",
      "0 <=> 4\n",
      "5I*5\n",
      "1 <=> 5\n",
      "=1Z'\n",
      "2 <=> 6\n",
      "EAH*\n",
      "3 <=> 7\n",
      "5SEG\n",
      "4 <=> 8\n",
      "'^(Y\n",
      "5 <=> 9\n",
      "*368\n",
      "6 <=> 10\n",
      "G-WT\n",
      "7 <=> 11\n",
      "YL;Y\n",
      "8 <=> 12\n",
      "8 61\n",
      "9 <=> 13\n",
      "T-^;\n",
      "10 <=> 14\n",
      "YET1\n",
      "11 <=> 15\n",
      "1O^E\n",
      "12 <=> 16\n",
      ";E*3\n",
      "13 <=> 17\n",
      "11\\-\n",
      "14 <=> 18\n",
      "EGB3\n",
      "15 <=> 19\n",
      "3Y\\)\n",
      "16 <=> 20\n",
      "-GFO\n",
      "17 <=> 21\n",
      "3] 7\n",
      "18 <=> 22\n",
      ");X\"\n",
      "19 <=> 23\n",
      "OCME\n",
      "20 <=> 24\n",
      "7V*]\n",
      "21 <=> 25\n",
      "\"12I\n",
      "22 <=> 26\n",
      "E)&>\n",
      "23 <=> 27\n",
      "]=Q*\n",
      "24 <=> 28\n",
      "IJE\n",
      "25 <=> 29\n",
      ">^\n",
      " OF  ========\n",
      "0 <=> 4\n",
      "5R#5\n",
      "1 <=> 5\n",
      "=*S'\n",
      "2 <=> 6\n",
      "EZA*\n",
      "3 <=> 7\n",
      "5HLG\n",
      "4 <=> 8\n",
      "'E!Y\n",
      "5 <=> 9\n",
      "*(?8\n",
      "6 <=> 10\n",
      "G6^T\n",
      "7 <=> 11\n",
      "YW2Y\n",
      "8 <=> 12\n",
      "8;?1\n",
      "9 <=> 13\n",
      "T6W;\n",
      "10 <=> 14\n",
      "Y^]1\n",
      "11 <=> 15\n",
      "1TWE\n",
      "12 <=> 16\n",
      ";^#3\n",
      "13 <=> 17\n",
      "1*U-\n",
      "14 <=> 18\n",
      "E\\K3\n",
      "15 <=> 19\n",
      "3BU)\n",
      "16 <=> 20\n",
      "-\\OO\n",
      "17 <=> 21\n",
      "3F)7\n",
      "18 <=> 22\n",
      ") Q\"\n",
      "19 <=> 23\n",
      "OXDE\n",
      "20 <=> 24\n",
      "7M#]\n",
      "21 <=> 25\n",
      "\"*;I\n",
      "22 <=> 26\n",
      "E2/>\n",
      "23 <=> 27\n",
      "]&X*\n",
      "24 <=> 28\n",
      "IQL\n",
      "25 <=> 29\n",
      ">E\n",
      " THE  ========\n",
      "0 <=> 5\n",
      "5I-P'\n",
      "1 <=> 6\n",
      "=1]B*\n",
      "2 <=> 7\n",
      "EAOOG\n",
      "3 <=> 8\n",
      "5SB\"Y\n",
      "4 <=> 9\n",
      "'^/<8\n",
      "5 <=> 10\n",
      "*31]T\n",
      "6 <=> 11\n",
      "G-P1Y\n",
      "7 <=> 12\n",
      "YL<<1\n",
      "8 <=> 13\n",
      "8 1T;\n",
      "9 <=> 14\n",
      "T-Y^1\n",
      "10 <=> 15\n",
      "YESTE\n",
      "11 <=> 16\n",
      "1OY 3\n",
      "12 <=> 17\n",
      ";E-V-\n",
      "13 <=> 18\n",
      "11[H3\n",
      "14 <=> 19\n",
      "EGEV)\n",
      "15 <=> 20\n",
      "3Y[LO\n",
      "16 <=> 21\n",
      "-GA*7\n",
      "17 <=> 22\n",
      "3]'R\"\n",
      "18 <=> 23\n",
      ");_GE\n",
      "19 <=> 24\n",
      "OCJ ]\n",
      "20 <=> 25\n",
      "7V-8I\n",
      "21 <=> 26\n",
      "\"15,>\n",
      "22 <=> 27\n",
      "E)![*\n",
      "23 <=> 28\n",
      "]=VO\n",
      "24 <=> 29\n",
      "IJB\n",
      "25 <=> 30\n",
      ">^\n"
     ]
    }
   ],
   "source": [
    "words = [\" AND \", \" BE \", \" TO \", \" OF \", \" THE \"]\n",
    "for word in words:\n",
    "    print(word, \"========\")\n",
    "    for i in range(len(mess)-1):\n",
    "        print(i, \"<=>\", len(word)+i)\n",
    "        print(add_str(word, mess[i: len(word)+i])) "
   ]
  },
  {
   "cell_type": "code",
   "execution_count": 146,
   "metadata": {},
   "outputs": [
    {
     "data": {
      "text/plain": [
       "'\\n0  1  2  3  4  5  6  7  8  9  10 11 12 13 14 15 16 17 18 19 20 21 22 23 24 25 26\\nX  X     A  N  D     Y  Y     Y  E  S  T  E  R  D  A  Y     E  V  E  N  I  N  G\\nM  E  E  T  I  N  G     A  T     T  H  E     A  I  R  P  O  R  T     3     P  M  \\n'"
      ]
     },
     "execution_count": 146,
     "metadata": {},
     "output_type": "execute_result"
    }
   ],
   "source": [
    "\"\"\"\n",
    "0  1  2  3  4  5  6  7  8  9  10 11 12 13 14 15 16 17 18 19 20 21 22 23 24 25 26\n",
    "X  X     A  N  D     Y  Y     Y  E  S  T  E  R  D  A  Y     E  V  E  N  I  N  G\n",
    "M  E  E  T  I  N  G     A  T     T  H  E     A  I  R  P  O  R  T     3     P  M  \n",
    "\"\"\""
   ]
  },
  {
   "cell_type": "code",
   "execution_count": 144,
   "metadata": {},
   "outputs": [
    {
     "data": {
      "text/plain": [
       "'XX AND YY YEST'"
      ]
     },
     "execution_count": 144,
     "metadata": {},
     "output_type": "execute_result"
    }
   ],
   "source": [
    "add_str(mess[0:18], \"MEETING AT THE\")"
   ]
  },
  {
   "cell_type": "code",
   "execution_count": 138,
   "metadata": {},
   "outputs": [
    {
     "data": {
      "text/plain": [
       "'ETING'"
      ]
     },
     "execution_count": 138,
     "metadata": {},
     "output_type": "execute_result"
    }
   ],
   "source": [
    "add_str(mess[2:11], \" AND \")"
   ]
  },
  {
   "cell_type": "code",
   "execution_count": 118,
   "metadata": {},
   "outputs": [
    {
     "data": {
      "text/plain": [
       "'ORT '"
      ]
     },
     "execution_count": 118,
     "metadata": {},
     "output_type": "execute_result"
    }
   ],
   "source": [
    "add_str(mess[19:23], ' EVE')"
   ]
  },
  {
   "cell_type": "code",
   "execution_count": 91,
   "metadata": {},
   "outputs": [
    {
     "data": {
      "text/plain": [
       "' AND Y'"
      ]
     },
     "execution_count": 91,
     "metadata": {},
     "output_type": "execute_result"
    }
   ],
   "source": [
    "add_str(mess[2:8], \"ETING \")"
   ]
  },
  {
   "cell_type": "code",
   "execution_count": 120,
   "metadata": {},
   "outputs": [
    {
     "data": {
      "text/plain": [
       "'T THE AIRPO'"
      ]
     },
     "execution_count": 120,
     "metadata": {},
     "output_type": "execute_result"
    }
   ],
   "source": [
    "add_str(mess[9:21], \" YESTERDAY \")"
   ]
  },
  {
   "cell_type": "code",
   "execution_count": 81,
   "metadata": {},
   "outputs": [
    {
     "data": {
      "text/plain": [
       "'ERDAY EVE'"
      ]
     },
     "execution_count": 81,
     "metadata": {},
     "output_type": "execute_result"
    }
   ],
   "source": [
    "add_str(mess[14:23], \" AIRPORT \")"
   ]
  },
  {
   "cell_type": "code",
   "execution_count": 99,
   "metadata": {},
   "outputs": [
    {
     "data": {
      "text/plain": [
       "'ORT 3 PM'"
      ]
     },
     "execution_count": 99,
     "metadata": {},
     "output_type": "execute_result"
    }
   ],
   "source": [
    "add_str(mess[19:27], \" EVENING\")"
   ]
  },
  {
   "cell_type": "markdown",
   "metadata": {},
   "source": [
    "## Zadanie 5 (2 pkt.)"
   ]
  },
  {
   "cell_type": "markdown",
   "metadata": {},
   "source": [
    "W poprzednim zadaniu korzystaliśmu z faktu, że obie wiadomości były zaszyfrowane przy użyciu tego samego klucza. Jednka w praktyce nie wiemy, które i czy w ogóle, wiadomosci były zaszyfrowane przy użyciu tego samego klucza. Możemy to wykryć dokonując analizy statystycznej. Załóżmy, że dodajemy do siebie dwie wiadomości zaszyfrowane tymi samymi kluczami. Wtedy miejsca w których dostaniemy 0 (w konwencji użytej w tym zadaniu znak odpowiadający 0 w Unicode, czyli chr(0)) są miejscami w których w obu wiadomościach była ta sama litera. Jeżeli natomiast dodajemy wiadomości o różnych kluczach będziemy dostawać 0 w losowych miejscach. Zatem w pierwszym przypadku otrzymamy więcej 0.\n",
    "\n",
    "Zatem należy wczytać wszystkie wiadomości msg1.txt, msg2.txt itd. a następnie dodać je do siebie parami, każda z każdą i policzyć odsetek 0 (tzn. znaków chr(0)) w otrzymanych sumach. Para wiadomości o wyższym niż inne odsetku będzie tą zaszyfrowaną przy u życiu tego samego klucza. Aby łatwiej zauważyć taką parę warto zilustrować sobie wyniki (odsetki 0) za pomocą **plt.imshow(X ,norm=LogNorm())** i użyć skali logarytmicznej, gdzie **X** to tablica 10 na 10 zawierająca odsetki 0 dla każdej pary wiadomości."
   ]
  },
  {
   "cell_type": "code",
   "execution_count": 1,
   "metadata": {},
   "outputs": [],
   "source": [
    "messages = []\n",
    "for i in range(10):\n",
    "    with open(f\"msg{i}.txt\", \"r\") as f:\n",
    "        messages.append(f.read())"
   ]
  },
  {
   "cell_type": "code",
   "execution_count": 21,
   "metadata": {},
   "outputs": [],
   "source": [
    "counts = []\n",
    "\n",
    "for msg1 in messages:\n",
    "    counts_for_msg = []\n",
    "    for msg2 in messages:\n",
    "        count = 0\n",
    "        added = add_str(msg1, msg2)\n",
    "        for i in range(len(added)):\n",
    "            count += ord(added[i]) == 0\n",
    "        counts_for_msg.append(count)\n",
    "    counts.append(counts_for_msg)"
   ]
  },
  {
   "cell_type": "code",
   "execution_count": 22,
   "metadata": {},
   "outputs": [
    {
     "data": {
      "text/plain": [
       "[[11515, 209, 201, 202, 218, 195, 177, 210, 184, 210],\n",
       " [209, 11515, 186, 197, 199, 208, 212, 172, 199, 203],\n",
       " [201, 186, 11515, 195, 182, 200, 197, 164, 195, 196],\n",
       " [202, 197, 195, 11515, 201, 184, 178, 195, 591, 194],\n",
       " [218, 199, 182, 201, 11515, 220, 170, 169, 168, 192],\n",
       " [195, 208, 200, 184, 220, 11515, 168, 190, 194, 197],\n",
       " [177, 212, 197, 178, 170, 168, 11515, 193, 184, 180],\n",
       " [210, 172, 164, 195, 169, 190, 193, 11515, 196, 182],\n",
       " [184, 199, 195, 591, 168, 194, 184, 196, 11515, 196],\n",
       " [210, 203, 196, 194, 192, 197, 180, 182, 196, 11515]]"
      ]
     },
     "execution_count": 22,
     "metadata": {},
     "output_type": "execute_result"
    }
   ],
   "source": [
    "counts"
   ]
  },
  {
   "cell_type": "code",
   "execution_count": 23,
   "metadata": {},
   "outputs": [],
   "source": [
    "import matplotlib.pyplot as plt\n",
    "from matplotlib.colors import LogNorm\n",
    "import numpy as np"
   ]
  },
  {
   "cell_type": "code",
   "execution_count": 33,
   "metadata": {},
   "outputs": [
    {
     "data": {
      "image/png": "[encoded data removed]",
      "text/plain": [
       "<Figure size 640x480 with 2 Axes>"
      ]
     },
     "metadata": {},
     "output_type": "display_data"
    }
   ],
   "source": [
    "counts = np.array(counts, dtype=float)\n",
    "\n",
    "np.fill_diagonal(counts, np.nan)\n",
    "\n",
    "im = plt.imshow(counts, norm=LogNorm())\n",
    "\n",
    "# Add a colorbar to explain the colors\n",
    "cbar = plt.colorbar(im)\n",
    "plt.title('2D Array Values with LogNorm and Colorbar')\n",
    "plt.xticks(range(10))\n",
    "plt.yticks(range(10))\n",
    "plt.show()"
   ]
  }
 ],
 "metadata": {
  "kernelspec": {
   "display_name": "Python 3",
   "language": "python",
   "name": "python3"
  },
  "language_info": {
   "codemirror_mode": {
    "name": "ipython",
    "version": 3
   },
   "file_extension": ".py",
   "mimetype": "text/x-python",
   "name": "python",
   "nbconvert_exporter": "python",
   "pygments_lexer": "ipython3",
   "version": "3.10.12"
  }
 },
 "nbformat": 4,
 "nbformat_minor": 2
}
